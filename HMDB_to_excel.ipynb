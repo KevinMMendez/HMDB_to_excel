{
 "cells": [
  {
   "cell_type": "code",
   "execution_count": null,
   "metadata": {},
   "outputs": [],
   "source": [
    "# Imports\n",
    "import pandas as pd\n",
    "import numpy as np\n",
    "import urllib.request\n",
    "import xml.etree.ElementTree as et \n",
    "\n",
    "print(\"Done importing libraries!\")"
   ]
  },
  {
   "cell_type": "code",
   "execution_count": null,
   "metadata": {},
   "outputs": [],
   "source": [
    "# ENTER list of metabolites by HMDB ID\n",
    "\n",
    "metab_list = ['HMDB0030396', 'HMDB0000122', 'HMDB0000001', 'HMDB0000134']"
   ]
  },
  {
   "cell_type": "code",
   "execution_count": null,
   "metadata": {},
   "outputs": [],
   "source": [
    "# ENTER data/columns to store \n",
    "# For example use http://www.hmdb.ca/metabolites/HMDB0000149.xml and find correct column names\n",
    "\n",
    "columns = ['accession',\n",
    "           'name',\n",
    "           'synonyms/synonym',\n",
    "           'chemical_formula',\n",
    "           'monisotopic_molecular_weight',\n",
    "           'cas_registry_number',\n",
    "           'kegg_id',\n",
    "           'pubchem_compound_id',\n",
    "           'chemspider_id',\n",
    "           'smiles',\n",
    "           'inchi',\n",
    "           'taxonomy/super_class',\n",
    "           'taxonomy/class',\n",
    "           'taxonomy/sub_class',\n",
    "            'biological_properties/pathways/pathway/name']\n"
   ]
  },
  {
   "cell_type": "code",
   "execution_count": null,
   "metadata": {},
   "outputs": [],
   "source": [
    "# RUN cell (don't need to edit this)\n",
    "# Store all information from HMDB into hmdb_table\n",
    "\n",
    "hmdb_table = pd.DataFrame(columns=columns)  # Empty table\n",
    "\n",
    "for metabolite in metab_list:\n",
    "\n",
    "    # ensure HMDB ID is new  (i.e. 11 characters) \n",
    "    if len(metabolite) == 9:\n",
    "        metabolite = metabolite[:4] + \"00\" + metabolite[4:] \n",
    "\n",
    "    # Request .xlm for the metabolite\n",
    "    link = 'http://www.hmdb.ca/metabolites/' + metabolite + '.xml'\n",
    "    try:\n",
    "        urllib.request.urlretrieve(link, \"hmdb_metabolites.xml\")\n",
    "    except:\n",
    "        raise ValueError(\"HMDB ID: {} does not exist\".format(metabolite))\n",
    "    \n",
    "    # Open xlm\n",
    "    file_xml = open(\"hmdb_metabolites.xml\").read()\n",
    "    root = et.XML(file_xml)\n",
    "\n",
    "    # Loop through each column and store value\n",
    "    values = []\n",
    "    for col in columns:\n",
    "         # Extract info as an element\n",
    "        col_element = et.fromstring(file_xml).findall(col)\n",
    "        \n",
    "        # Convert element to string and append to values if it exists\n",
    "        if len(col_element) == 0:\n",
    "            col_value = \"\"\n",
    "        else:\n",
    "            col_value = col_element[0].text \n",
    "        \n",
    "        # If there are additional columns add a comma e.g. 'A, B, C'\n",
    "        if len(col_value) > 1:\n",
    "            for i in col_element[1:]:\n",
    "                col_value = col_value + \", \" + i.text\n",
    "        values.append(col_value)\n",
    "    \n",
    "    # Create a pandas series, and add it to hmdb_table \n",
    "    row = pd.Series(values, index=columns)\n",
    "    hmdb_table = hmdb_table.append(row, ignore_index=True)\n",
    "        \n",
    "print(\"Done! Check hmdb_table below.\")"
   ]
  },
  {
   "cell_type": "code",
   "execution_count": null,
   "metadata": {},
   "outputs": [],
   "source": [
    "# View table\n",
    "\n",
    "display(hmdb_table)"
   ]
  },
  {
   "cell_type": "code",
   "execution_count": null,
   "metadata": {},
   "outputs": [],
   "source": [
    "# EXPORT as excel\n",
    "file_excel = \"hmdb_table.xlsx\"\n",
    "hmdb_table.to_excel(file_excel)\n",
    "print(\"Done.\")"
   ]
  },
  {
   "cell_type": "code",
   "execution_count": null,
   "metadata": {},
   "outputs": [],
   "source": []
  },
  {
   "cell_type": "code",
   "execution_count": null,
   "metadata": {},
   "outputs": [],
   "source": []
  },
  {
   "cell_type": "code",
   "execution_count": null,
   "metadata": {},
   "outputs": [],
   "source": []
  },
  {
   "cell_type": "code",
   "execution_count": null,
   "metadata": {},
   "outputs": [],
   "source": []
  },
  {
   "cell_type": "code",
   "execution_count": null,
   "metadata": {},
   "outputs": [],
   "source": []
  }
 ],
 "metadata": {
  "kernelspec": {
   "display_name": "Python 3",
   "language": "python",
   "name": "python3"
  },
  "language_info": {
   "codemirror_mode": {
    "name": "ipython",
    "version": 3
   },
   "file_extension": ".py",
   "mimetype": "text/x-python",
   "name": "python",
   "nbconvert_exporter": "python",
   "pygments_lexer": "ipython3",
   "version": "3.7.3"
  }
 },
 "nbformat": 4,
 "nbformat_minor": 2
}
